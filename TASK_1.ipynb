{
 "cells": [
  {
   "cell_type": "code",
   "execution_count": 1,
   "id": "197f4f48",
   "metadata": {},
   "outputs": [],
   "source": [
    "import pandas as pd\n",
    "import numpy as np\n",
    "import matplotlib.pyplot as plt\n",
    "import seaborn as sns"
   ]
  },
  {
   "cell_type": "code",
   "execution_count": 2,
   "id": "f7b6395d",
   "metadata": {},
   "outputs": [],
   "source": [
    "import warnings\n",
    "warnings.filterwarnings(\"ignore\")"
   ]
  },
  {
   "cell_type": "code",
   "execution_count": 3,
   "id": "7a6b78b4",
   "metadata": {},
   "outputs": [],
   "source": [
    "pb=pd.read_csv(\"QVI_purchase_behaviour.csv\")"
   ]
  },
  {
   "cell_type": "code",
   "execution_count": 4,
   "id": "92240956",
   "metadata": {},
   "outputs": [
    {
     "data": {
      "text/html": [
       "<div>\n",
       "<style scoped>\n",
       "    .dataframe tbody tr th:only-of-type {\n",
       "        vertical-align: middle;\n",
       "    }\n",
       "\n",
       "    .dataframe tbody tr th {\n",
       "        vertical-align: top;\n",
       "    }\n",
       "\n",
       "    .dataframe thead th {\n",
       "        text-align: right;\n",
       "    }\n",
       "</style>\n",
       "<table border=\"1\" class=\"dataframe\">\n",
       "  <thead>\n",
       "    <tr style=\"text-align: right;\">\n",
       "      <th></th>\n",
       "      <th>LYLTY_CARD_NBR</th>\n",
       "      <th>LIFESTAGE</th>\n",
       "      <th>PREMIUM_CUSTOMER</th>\n",
       "    </tr>\n",
       "  </thead>\n",
       "  <tbody>\n",
       "    <tr>\n",
       "      <th>0</th>\n",
       "      <td>1000</td>\n",
       "      <td>YOUNG SINGLES/COUPLES</td>\n",
       "      <td>Premium</td>\n",
       "    </tr>\n",
       "    <tr>\n",
       "      <th>1</th>\n",
       "      <td>1002</td>\n",
       "      <td>YOUNG SINGLES/COUPLES</td>\n",
       "      <td>Mainstream</td>\n",
       "    </tr>\n",
       "    <tr>\n",
       "      <th>2</th>\n",
       "      <td>1003</td>\n",
       "      <td>YOUNG FAMILIES</td>\n",
       "      <td>Budget</td>\n",
       "    </tr>\n",
       "    <tr>\n",
       "      <th>3</th>\n",
       "      <td>1004</td>\n",
       "      <td>OLDER SINGLES/COUPLES</td>\n",
       "      <td>Mainstream</td>\n",
       "    </tr>\n",
       "    <tr>\n",
       "      <th>4</th>\n",
       "      <td>1005</td>\n",
       "      <td>MIDAGE SINGLES/COUPLES</td>\n",
       "      <td>Mainstream</td>\n",
       "    </tr>\n",
       "  </tbody>\n",
       "</table>\n",
       "</div>"
      ],
      "text/plain": [
       "   LYLTY_CARD_NBR               LIFESTAGE PREMIUM_CUSTOMER\n",
       "0            1000   YOUNG SINGLES/COUPLES          Premium\n",
       "1            1002   YOUNG SINGLES/COUPLES       Mainstream\n",
       "2            1003          YOUNG FAMILIES           Budget\n",
       "3            1004   OLDER SINGLES/COUPLES       Mainstream\n",
       "4            1005  MIDAGE SINGLES/COUPLES       Mainstream"
      ]
     },
     "execution_count": 4,
     "metadata": {},
     "output_type": "execute_result"
    }
   ],
   "source": [
    "pb.head()"
   ]
  },
  {
   "cell_type": "code",
   "execution_count": 27,
   "id": "55f89367",
   "metadata": {},
   "outputs": [],
   "source": [
    "td=pd.read_excel(\"QVI_transaction_data.xlsx\")"
   ]
  },
  {
   "cell_type": "code",
   "execution_count": 6,
   "id": "b65892cb",
   "metadata": {},
   "outputs": [
    {
     "data": {
      "text/html": [
       "<div>\n",
       "<style scoped>\n",
       "    .dataframe tbody tr th:only-of-type {\n",
       "        vertical-align: middle;\n",
       "    }\n",
       "\n",
       "    .dataframe tbody tr th {\n",
       "        vertical-align: top;\n",
       "    }\n",
       "\n",
       "    .dataframe thead th {\n",
       "        text-align: right;\n",
       "    }\n",
       "</style>\n",
       "<table border=\"1\" class=\"dataframe\">\n",
       "  <thead>\n",
       "    <tr style=\"text-align: right;\">\n",
       "      <th></th>\n",
       "      <th>DATE</th>\n",
       "      <th>STORE_NBR</th>\n",
       "      <th>LYLTY_CARD_NBR</th>\n",
       "      <th>TXN_ID</th>\n",
       "      <th>PROD_NBR</th>\n",
       "      <th>PROD_NAME</th>\n",
       "      <th>PROD_QTY</th>\n",
       "      <th>TOT_SALES</th>\n",
       "    </tr>\n",
       "  </thead>\n",
       "  <tbody>\n",
       "    <tr>\n",
       "      <th>0</th>\n",
       "      <td>43390</td>\n",
       "      <td>1</td>\n",
       "      <td>1000</td>\n",
       "      <td>1</td>\n",
       "      <td>5</td>\n",
       "      <td>Natural Chip        Compny SeaSalt175g</td>\n",
       "      <td>2</td>\n",
       "      <td>6.0</td>\n",
       "    </tr>\n",
       "    <tr>\n",
       "      <th>1</th>\n",
       "      <td>43599</td>\n",
       "      <td>1</td>\n",
       "      <td>1307</td>\n",
       "      <td>348</td>\n",
       "      <td>66</td>\n",
       "      <td>CCs Nacho Cheese    175g</td>\n",
       "      <td>3</td>\n",
       "      <td>6.3</td>\n",
       "    </tr>\n",
       "    <tr>\n",
       "      <th>2</th>\n",
       "      <td>43605</td>\n",
       "      <td>1</td>\n",
       "      <td>1343</td>\n",
       "      <td>383</td>\n",
       "      <td>61</td>\n",
       "      <td>Smiths Crinkle Cut  Chips Chicken 170g</td>\n",
       "      <td>2</td>\n",
       "      <td>2.9</td>\n",
       "    </tr>\n",
       "    <tr>\n",
       "      <th>3</th>\n",
       "      <td>43329</td>\n",
       "      <td>2</td>\n",
       "      <td>2373</td>\n",
       "      <td>974</td>\n",
       "      <td>69</td>\n",
       "      <td>Smiths Chip Thinly  S/Cream&amp;Onion 175g</td>\n",
       "      <td>5</td>\n",
       "      <td>15.0</td>\n",
       "    </tr>\n",
       "    <tr>\n",
       "      <th>4</th>\n",
       "      <td>43330</td>\n",
       "      <td>2</td>\n",
       "      <td>2426</td>\n",
       "      <td>1038</td>\n",
       "      <td>108</td>\n",
       "      <td>Kettle Tortilla ChpsHny&amp;Jlpno Chili 150g</td>\n",
       "      <td>3</td>\n",
       "      <td>13.8</td>\n",
       "    </tr>\n",
       "  </tbody>\n",
       "</table>\n",
       "</div>"
      ],
      "text/plain": [
       "    DATE  STORE_NBR  LYLTY_CARD_NBR  TXN_ID  PROD_NBR  \\\n",
       "0  43390          1            1000       1         5   \n",
       "1  43599          1            1307     348        66   \n",
       "2  43605          1            1343     383        61   \n",
       "3  43329          2            2373     974        69   \n",
       "4  43330          2            2426    1038       108   \n",
       "\n",
       "                                  PROD_NAME  PROD_QTY  TOT_SALES  \n",
       "0    Natural Chip        Compny SeaSalt175g         2        6.0  \n",
       "1                  CCs Nacho Cheese    175g         3        6.3  \n",
       "2    Smiths Crinkle Cut  Chips Chicken 170g         2        2.9  \n",
       "3    Smiths Chip Thinly  S/Cream&Onion 175g         5       15.0  \n",
       "4  Kettle Tortilla ChpsHny&Jlpno Chili 150g         3       13.8  "
      ]
     },
     "execution_count": 6,
     "metadata": {},
     "output_type": "execute_result"
    }
   ],
   "source": [
    "td.head()"
   ]
  },
  {
   "cell_type": "code",
   "execution_count": 7,
   "id": "0d849864",
   "metadata": {},
   "outputs": [
    {
     "data": {
      "text/plain": [
       "Index(['LYLTY_CARD_NBR', 'LIFESTAGE', 'PREMIUM_CUSTOMER'], dtype='object')"
      ]
     },
     "execution_count": 7,
     "metadata": {},
     "output_type": "execute_result"
    }
   ],
   "source": [
    "pb.columns"
   ]
  },
  {
   "cell_type": "code",
   "execution_count": 8,
   "id": "b69fe40f",
   "metadata": {},
   "outputs": [
    {
     "data": {
      "text/plain": [
       "Index(['DATE', 'STORE_NBR', 'LYLTY_CARD_NBR', 'TXN_ID', 'PROD_NBR',\n",
       "       'PROD_NAME', 'PROD_QTY', 'TOT_SALES'],\n",
       "      dtype='object')"
      ]
     },
     "execution_count": 8,
     "metadata": {},
     "output_type": "execute_result"
    }
   ],
   "source": [
    "td.columns"
   ]
  },
  {
   "cell_type": "markdown",
   "id": "17064d7e",
   "metadata": {},
   "source": [
    "# `CHECKING THE DATA TYPES`"
   ]
  },
  {
   "cell_type": "code",
   "execution_count": 9,
   "id": "7848e378",
   "metadata": {
    "scrolled": true
   },
   "outputs": [
    {
     "data": {
      "text/plain": [
       "LYLTY_CARD_NBR       int64\n",
       "LIFESTAGE           object\n",
       "PREMIUM_CUSTOMER    object\n",
       "dtype: object"
      ]
     },
     "execution_count": 9,
     "metadata": {},
     "output_type": "execute_result"
    }
   ],
   "source": [
    "pb.dtypes"
   ]
  },
  {
   "cell_type": "code",
   "execution_count": 10,
   "id": "1dba367a",
   "metadata": {},
   "outputs": [
    {
     "data": {
      "text/plain": [
       "DATE                int64\n",
       "STORE_NBR           int64\n",
       "LYLTY_CARD_NBR      int64\n",
       "TXN_ID              int64\n",
       "PROD_NBR            int64\n",
       "PROD_NAME          object\n",
       "PROD_QTY            int64\n",
       "TOT_SALES         float64\n",
       "dtype: object"
      ]
     },
     "execution_count": 10,
     "metadata": {},
     "output_type": "execute_result"
    }
   ],
   "source": [
    "td.dtypes"
   ]
  },
  {
   "cell_type": "markdown",
   "id": "f2c9b804",
   "metadata": {},
   "source": [
    "# `FINDING COUNT OF PRODUCTS`"
   ]
  },
  {
   "cell_type": "code",
   "execution_count": 43,
   "id": "1fc33222",
   "metadata": {
    "scrolled": true
   },
   "outputs": [
    {
     "data": {
      "text/html": [
       "<div>\n",
       "<style scoped>\n",
       "    .dataframe tbody tr th:only-of-type {\n",
       "        vertical-align: middle;\n",
       "    }\n",
       "\n",
       "    .dataframe tbody tr th {\n",
       "        vertical-align: top;\n",
       "    }\n",
       "\n",
       "    .dataframe thead th {\n",
       "        text-align: right;\n",
       "    }\n",
       "</style>\n",
       "<table border=\"1\" class=\"dataframe\">\n",
       "  <thead>\n",
       "    <tr style=\"text-align: right;\">\n",
       "      <th></th>\n",
       "      <th>PROD_NAME</th>\n",
       "    </tr>\n",
       "  </thead>\n",
       "  <tbody>\n",
       "    <tr>\n",
       "      <th>Kettle Mozzarella   Basil &amp; Pesto 175g</th>\n",
       "      <td>3304</td>\n",
       "    </tr>\n",
       "    <tr>\n",
       "      <th>Kettle Tortilla ChpsHny&amp;Jlpno Chili 150g</th>\n",
       "      <td>3296</td>\n",
       "    </tr>\n",
       "    <tr>\n",
       "      <th>Cobs Popd Swt/Chlli &amp;Sr/Cream Chips 110g</th>\n",
       "      <td>3269</td>\n",
       "    </tr>\n",
       "    <tr>\n",
       "      <th>Tyrrells Crisps     Ched &amp; Chives 165g</th>\n",
       "      <td>3268</td>\n",
       "    </tr>\n",
       "    <tr>\n",
       "      <th>Cobs Popd Sea Salt  Chips 110g</th>\n",
       "      <td>3265</td>\n",
       "    </tr>\n",
       "    <tr>\n",
       "      <th>...</th>\n",
       "      <td>...</td>\n",
       "    </tr>\n",
       "    <tr>\n",
       "      <th>RRD Pc Sea Salt     165g</th>\n",
       "      <td>1431</td>\n",
       "    </tr>\n",
       "    <tr>\n",
       "      <th>Woolworths Medium   Salsa 300g</th>\n",
       "      <td>1430</td>\n",
       "    </tr>\n",
       "    <tr>\n",
       "      <th>NCC Sour Cream &amp;    Garden Chives 175g</th>\n",
       "      <td>1419</td>\n",
       "    </tr>\n",
       "    <tr>\n",
       "      <th>French Fries Potato Chips 175g</th>\n",
       "      <td>1418</td>\n",
       "    </tr>\n",
       "    <tr>\n",
       "      <th>WW Crinkle Cut      Original 175g</th>\n",
       "      <td>1410</td>\n",
       "    </tr>\n",
       "  </tbody>\n",
       "</table>\n",
       "<p>114 rows × 1 columns</p>\n",
       "</div>"
      ],
      "text/plain": [
       "                                          PROD_NAME\n",
       "Kettle Mozzarella   Basil & Pesto 175g         3304\n",
       "Kettle Tortilla ChpsHny&Jlpno Chili 150g       3296\n",
       "Cobs Popd Swt/Chlli &Sr/Cream Chips 110g       3269\n",
       "Tyrrells Crisps     Ched & Chives 165g         3268\n",
       "Cobs Popd Sea Salt  Chips 110g                 3265\n",
       "...                                             ...\n",
       "RRD Pc Sea Salt     165g                       1431\n",
       "Woolworths Medium   Salsa 300g                 1430\n",
       "NCC Sour Cream &    Garden Chives 175g         1419\n",
       "French Fries Potato Chips 175g                 1418\n",
       "WW Crinkle Cut      Original 175g              1410\n",
       "\n",
       "[114 rows x 1 columns]"
      ]
     },
     "execution_count": 43,
     "metadata": {},
     "output_type": "execute_result"
    }
   ],
   "source": [
    "pd.DataFrame(td.PROD_NAME.value_counts())"
   ]
  },
  {
   "cell_type": "markdown",
   "id": "2645b045",
   "metadata": {},
   "source": [
    "# `CONVERTING DATATYPE`"
   ]
  },
  {
   "cell_type": "code",
   "execution_count": 32,
   "id": "2ad154fd",
   "metadata": {},
   "outputs": [],
   "source": [
    "td.DATE=pd.to_datetime(td.DATE,errors='ignore')"
   ]
  },
  {
   "cell_type": "code",
   "execution_count": 33,
   "id": "e1fee88b",
   "metadata": {},
   "outputs": [
    {
     "data": {
      "text/plain": [
       "DATE              datetime64[ns]\n",
       "STORE_NBR                  int64\n",
       "LYLTY_CARD_NBR             int64\n",
       "TXN_ID                     int64\n",
       "PROD_NBR                   int64\n",
       "PROD_NAME                 object\n",
       "PROD_QTY                   int64\n",
       "TOT_SALES                float64\n",
       "dtype: object"
      ]
     },
     "execution_count": 33,
     "metadata": {},
     "output_type": "execute_result"
    }
   ],
   "source": [
    "td.dtypes"
   ]
  },
  {
   "cell_type": "markdown",
   "id": "5bda8cec",
   "metadata": {},
   "source": [
    "# `SUMMARIZATION`"
   ]
  },
  {
   "cell_type": "code",
   "execution_count": 11,
   "id": "ac104159",
   "metadata": {
    "scrolled": true
   },
   "outputs": [
    {
     "data": {
      "text/plain": [
       "(72637, 3)"
      ]
     },
     "execution_count": 11,
     "metadata": {},
     "output_type": "execute_result"
    }
   ],
   "source": [
    "pb.shape"
   ]
  },
  {
   "cell_type": "code",
   "execution_count": 12,
   "id": "5c105ce0",
   "metadata": {},
   "outputs": [
    {
     "data": {
      "text/plain": [
       "(264836, 8)"
      ]
     },
     "execution_count": 12,
     "metadata": {},
     "output_type": "execute_result"
    }
   ],
   "source": [
    "td.shape"
   ]
  },
  {
   "cell_type": "code",
   "execution_count": 13,
   "id": "85dd7252",
   "metadata": {
    "scrolled": false
   },
   "outputs": [
    {
     "data": {
      "text/html": [
       "<div>\n",
       "<style scoped>\n",
       "    .dataframe tbody tr th:only-of-type {\n",
       "        vertical-align: middle;\n",
       "    }\n",
       "\n",
       "    .dataframe tbody tr th {\n",
       "        vertical-align: top;\n",
       "    }\n",
       "\n",
       "    .dataframe thead th {\n",
       "        text-align: right;\n",
       "    }\n",
       "</style>\n",
       "<table border=\"1\" class=\"dataframe\">\n",
       "  <thead>\n",
       "    <tr style=\"text-align: right;\">\n",
       "      <th></th>\n",
       "      <th>LYLTY_CARD_NBR</th>\n",
       "    </tr>\n",
       "  </thead>\n",
       "  <tbody>\n",
       "    <tr>\n",
       "      <th>count</th>\n",
       "      <td>7.263700e+04</td>\n",
       "    </tr>\n",
       "    <tr>\n",
       "      <th>mean</th>\n",
       "      <td>1.361859e+05</td>\n",
       "    </tr>\n",
       "    <tr>\n",
       "      <th>std</th>\n",
       "      <td>8.989293e+04</td>\n",
       "    </tr>\n",
       "    <tr>\n",
       "      <th>min</th>\n",
       "      <td>1.000000e+03</td>\n",
       "    </tr>\n",
       "    <tr>\n",
       "      <th>25%</th>\n",
       "      <td>6.620200e+04</td>\n",
       "    </tr>\n",
       "    <tr>\n",
       "      <th>50%</th>\n",
       "      <td>1.340400e+05</td>\n",
       "    </tr>\n",
       "    <tr>\n",
       "      <th>75%</th>\n",
       "      <td>2.033750e+05</td>\n",
       "    </tr>\n",
       "    <tr>\n",
       "      <th>max</th>\n",
       "      <td>2.373711e+06</td>\n",
       "    </tr>\n",
       "  </tbody>\n",
       "</table>\n",
       "</div>"
      ],
      "text/plain": [
       "       LYLTY_CARD_NBR\n",
       "count    7.263700e+04\n",
       "mean     1.361859e+05\n",
       "std      8.989293e+04\n",
       "min      1.000000e+03\n",
       "25%      6.620200e+04\n",
       "50%      1.340400e+05\n",
       "75%      2.033750e+05\n",
       "max      2.373711e+06"
      ]
     },
     "execution_count": 13,
     "metadata": {},
     "output_type": "execute_result"
    }
   ],
   "source": [
    "pb.describe()"
   ]
  },
  {
   "cell_type": "markdown",
   "id": "25183854",
   "metadata": {},
   "source": [
    "`AS WE CAN SEE MEAN AND MEDIAN ARE ALMOST SIMILAR SO WE CAN CONCLUDE THAT THE DATA IS ALMOST NORMALLLY DISTRIBUTED`"
   ]
  },
  {
   "cell_type": "code",
   "execution_count": 14,
   "id": "c00be671",
   "metadata": {
    "scrolled": false
   },
   "outputs": [
    {
     "data": {
      "text/plain": [
       "<Axes: xlabel='LYLTY_CARD_NBR', ylabel='Density'>"
      ]
     },
     "execution_count": 14,
     "metadata": {},
     "output_type": "execute_result"
    },
    {
     "data": {
      "image/png": "[encoded data removed]",
      "text/plain": [
       "<Figure size 640x480 with 1 Axes>"
      ]
     },
     "metadata": {},
     "output_type": "display_data"
    }
   ],
   "source": [
    "sns.distplot(pb['LYLTY_CARD_NBR'])"
   ]
  },
  {
   "cell_type": "code",
   "execution_count": 15,
   "id": "e0f757a9",
   "metadata": {
    "scrolled": true
   },
   "outputs": [
    {
     "data": {
      "text/html": [
       "<div>\n",
       "<style scoped>\n",
       "    .dataframe tbody tr th:only-of-type {\n",
       "        vertical-align: middle;\n",
       "    }\n",
       "\n",
       "    .dataframe tbody tr th {\n",
       "        vertical-align: top;\n",
       "    }\n",
       "\n",
       "    .dataframe thead th {\n",
       "        text-align: right;\n",
       "    }\n",
       "</style>\n",
       "<table border=\"1\" class=\"dataframe\">\n",
       "  <thead>\n",
       "    <tr style=\"text-align: right;\">\n",
       "      <th></th>\n",
       "      <th>DATE</th>\n",
       "      <th>STORE_NBR</th>\n",
       "      <th>LYLTY_CARD_NBR</th>\n",
       "      <th>TXN_ID</th>\n",
       "      <th>PROD_NBR</th>\n",
       "      <th>PROD_QTY</th>\n",
       "      <th>TOT_SALES</th>\n",
       "    </tr>\n",
       "  </thead>\n",
       "  <tbody>\n",
       "    <tr>\n",
       "      <th>count</th>\n",
       "      <td>264836.000000</td>\n",
       "      <td>264836.00000</td>\n",
       "      <td>2.648360e+05</td>\n",
       "      <td>2.648360e+05</td>\n",
       "      <td>264836.000000</td>\n",
       "      <td>264836.000000</td>\n",
       "      <td>264836.000000</td>\n",
       "    </tr>\n",
       "    <tr>\n",
       "      <th>mean</th>\n",
       "      <td>43464.036260</td>\n",
       "      <td>135.08011</td>\n",
       "      <td>1.355495e+05</td>\n",
       "      <td>1.351583e+05</td>\n",
       "      <td>56.583157</td>\n",
       "      <td>1.907309</td>\n",
       "      <td>7.304200</td>\n",
       "    </tr>\n",
       "    <tr>\n",
       "      <th>std</th>\n",
       "      <td>105.389282</td>\n",
       "      <td>76.78418</td>\n",
       "      <td>8.057998e+04</td>\n",
       "      <td>7.813303e+04</td>\n",
       "      <td>32.826638</td>\n",
       "      <td>0.643654</td>\n",
       "      <td>3.083226</td>\n",
       "    </tr>\n",
       "    <tr>\n",
       "      <th>min</th>\n",
       "      <td>43282.000000</td>\n",
       "      <td>1.00000</td>\n",
       "      <td>1.000000e+03</td>\n",
       "      <td>1.000000e+00</td>\n",
       "      <td>1.000000</td>\n",
       "      <td>1.000000</td>\n",
       "      <td>1.500000</td>\n",
       "    </tr>\n",
       "    <tr>\n",
       "      <th>25%</th>\n",
       "      <td>43373.000000</td>\n",
       "      <td>70.00000</td>\n",
       "      <td>7.002100e+04</td>\n",
       "      <td>6.760150e+04</td>\n",
       "      <td>28.000000</td>\n",
       "      <td>2.000000</td>\n",
       "      <td>5.400000</td>\n",
       "    </tr>\n",
       "    <tr>\n",
       "      <th>50%</th>\n",
       "      <td>43464.000000</td>\n",
       "      <td>130.00000</td>\n",
       "      <td>1.303575e+05</td>\n",
       "      <td>1.351375e+05</td>\n",
       "      <td>56.000000</td>\n",
       "      <td>2.000000</td>\n",
       "      <td>7.400000</td>\n",
       "    </tr>\n",
       "    <tr>\n",
       "      <th>75%</th>\n",
       "      <td>43555.000000</td>\n",
       "      <td>203.00000</td>\n",
       "      <td>2.030942e+05</td>\n",
       "      <td>2.027012e+05</td>\n",
       "      <td>85.000000</td>\n",
       "      <td>2.000000</td>\n",
       "      <td>9.200000</td>\n",
       "    </tr>\n",
       "    <tr>\n",
       "      <th>max</th>\n",
       "      <td>43646.000000</td>\n",
       "      <td>272.00000</td>\n",
       "      <td>2.373711e+06</td>\n",
       "      <td>2.415841e+06</td>\n",
       "      <td>114.000000</td>\n",
       "      <td>200.000000</td>\n",
       "      <td>650.000000</td>\n",
       "    </tr>\n",
       "  </tbody>\n",
       "</table>\n",
       "</div>"
      ],
      "text/plain": [
       "                DATE     STORE_NBR  LYLTY_CARD_NBR        TXN_ID  \\\n",
       "count  264836.000000  264836.00000    2.648360e+05  2.648360e+05   \n",
       "mean    43464.036260     135.08011    1.355495e+05  1.351583e+05   \n",
       "std       105.389282      76.78418    8.057998e+04  7.813303e+04   \n",
       "min     43282.000000       1.00000    1.000000e+03  1.000000e+00   \n",
       "25%     43373.000000      70.00000    7.002100e+04  6.760150e+04   \n",
       "50%     43464.000000     130.00000    1.303575e+05  1.351375e+05   \n",
       "75%     43555.000000     203.00000    2.030942e+05  2.027012e+05   \n",
       "max     43646.000000     272.00000    2.373711e+06  2.415841e+06   \n",
       "\n",
       "            PROD_NBR       PROD_QTY      TOT_SALES  \n",
       "count  264836.000000  264836.000000  264836.000000  \n",
       "mean       56.583157       1.907309       7.304200  \n",
       "std        32.826638       0.643654       3.083226  \n",
       "min         1.000000       1.000000       1.500000  \n",
       "25%        28.000000       2.000000       5.400000  \n",
       "50%        56.000000       2.000000       7.400000  \n",
       "75%        85.000000       2.000000       9.200000  \n",
       "max       114.000000     200.000000     650.000000  "
      ]
     },
     "execution_count": 15,
     "metadata": {},
     "output_type": "execute_result"
    }
   ],
   "source": [
    "td.describe()"
   ]
  },
  {
   "cell_type": "markdown",
   "id": "718d6dfc",
   "metadata": {},
   "source": [
    "`AS WE CAN SEE THAT TOTAL SALES COLUMN HAS MAX VALUE OF 650 WHICH IS GREATER THAN DESIRED RANGE SO THERE ARE OUTLIERS PRESENT`"
   ]
  },
  {
   "cell_type": "markdown",
   "id": "decf2de8",
   "metadata": {},
   "source": [
    "# `CHECKING FOR NULL VALUES`"
   ]
  },
  {
   "cell_type": "code",
   "execution_count": 16,
   "id": "3fd7abb8",
   "metadata": {
    "scrolled": true
   },
   "outputs": [
    {
     "data": {
      "text/plain": [
       "DATE              0\n",
       "STORE_NBR         0\n",
       "LYLTY_CARD_NBR    0\n",
       "TXN_ID            0\n",
       "PROD_NBR          0\n",
       "PROD_NAME         0\n",
       "PROD_QTY          0\n",
       "TOT_SALES         0\n",
       "dtype: int64"
      ]
     },
     "execution_count": 16,
     "metadata": {},
     "output_type": "execute_result"
    }
   ],
   "source": [
    "td.isnull().sum()"
   ]
  },
  {
   "cell_type": "code",
   "execution_count": 17,
   "id": "cb723105",
   "metadata": {},
   "outputs": [
    {
     "data": {
      "text/plain": [
       "LYLTY_CARD_NBR      0\n",
       "LIFESTAGE           0\n",
       "PREMIUM_CUSTOMER    0\n",
       "dtype: int64"
      ]
     },
     "execution_count": 17,
     "metadata": {},
     "output_type": "execute_result"
    }
   ],
   "source": [
    "pb.isnull().sum()"
   ]
  },
  {
   "cell_type": "markdown",
   "id": "db7dc6d8",
   "metadata": {},
   "source": [
    "# `CLEANING THE OUTLIER`"
   ]
  },
  {
   "cell_type": "code",
   "execution_count": 18,
   "id": "1d65d02d",
   "metadata": {
    "scrolled": false
   },
   "outputs": [
    {
     "data": {
      "image/png": "[encoded data removed]",
      "text/plain": [
       "<Figure size 640x480 with 1 Axes>"
      ]
     },
     "metadata": {},
     "output_type": "display_data"
    }
   ],
   "source": [
    "bp=plt.boxplot(td.TOT_SALES)"
   ]
  },
  {
   "cell_type": "code",
   "execution_count": 19,
   "id": "df56d26d",
   "metadata": {},
   "outputs": [
    {
     "data": {
      "text/plain": [
       "[array([5.4, 1.5]), array([ 9.2, 14.8])]"
      ]
     },
     "execution_count": 19,
     "metadata": {},
     "output_type": "execute_result"
    }
   ],
   "source": [
    "[x.get_ydata() for x in bp['whiskers']]"
   ]
  },
  {
   "cell_type": "code",
   "execution_count": 20,
   "id": "0312f86b",
   "metadata": {},
   "outputs": [],
   "source": [
    "td_clean=td[td.TOT_SALES<14.8]"
   ]
  },
  {
   "cell_type": "code",
   "execution_count": 21,
   "id": "0ddee926",
   "metadata": {},
   "outputs": [
    {
     "data": {
      "image/png": "[encoded data removed]",
      "text/plain": [
       "<Figure size 640x480 with 1 Axes>"
      ]
     },
     "metadata": {},
     "output_type": "display_data"
    }
   ],
   "source": [
    "pb1=plt.boxplot(td_clean.TOT_SALES)"
   ]
  },
  {
   "cell_type": "code",
   "execution_count": 22,
   "id": "3e73290d",
   "metadata": {},
   "outputs": [
    {
     "data": {
      "text/plain": [
       "[array([14.5, 14.5, 14.5, 14.4, 14.5, 14.5, 14.5, 14.5, 14.5, 14.5, 14. ,\n",
       "        14.5, 14. , 14.5, 14.4, 14.4, 14.4, 14.5, 14.4, 14.4, 14. , 14.5,\n",
       "        14. , 14.5, 14.5, 14.5, 14.5, 14.5, 14. , 14.5, 14.4])]"
      ]
     },
     "execution_count": 22,
     "metadata": {},
     "output_type": "execute_result"
    }
   ],
   "source": [
    "[x.get_ydata() for x in pb1['fliers']]"
   ]
  },
  {
   "cell_type": "code",
   "execution_count": 23,
   "id": "13797170",
   "metadata": {
    "scrolled": true
   },
   "outputs": [
    {
     "data": {
      "text/html": [
       "<div>\n",
       "<style scoped>\n",
       "    .dataframe tbody tr th:only-of-type {\n",
       "        vertical-align: middle;\n",
       "    }\n",
       "\n",
       "    .dataframe tbody tr th {\n",
       "        vertical-align: top;\n",
       "    }\n",
       "\n",
       "    .dataframe thead th {\n",
       "        text-align: right;\n",
       "    }\n",
       "</style>\n",
       "<table border=\"1\" class=\"dataframe\">\n",
       "  <thead>\n",
       "    <tr style=\"text-align: right;\">\n",
       "      <th></th>\n",
       "      <th>DATE</th>\n",
       "      <th>STORE_NBR</th>\n",
       "      <th>LYLTY_CARD_NBR</th>\n",
       "      <th>TXN_ID</th>\n",
       "      <th>PROD_NBR</th>\n",
       "      <th>PROD_NAME</th>\n",
       "      <th>PROD_QTY</th>\n",
       "      <th>TOT_SALES</th>\n",
       "    </tr>\n",
       "  </thead>\n",
       "  <tbody>\n",
       "    <tr>\n",
       "      <th>137</th>\n",
       "      <td>43332</td>\n",
       "      <td>186</td>\n",
       "      <td>186401</td>\n",
       "      <td>188768</td>\n",
       "      <td>1</td>\n",
       "      <td>Smiths Crinkle Cut  Chips Barbecue 170g</td>\n",
       "      <td>5</td>\n",
       "      <td>14.5</td>\n",
       "    </tr>\n",
       "    <tr>\n",
       "      <th>5055</th>\n",
       "      <td>43603</td>\n",
       "      <td>24</td>\n",
       "      <td>24060</td>\n",
       "      <td>20619</td>\n",
       "      <td>61</td>\n",
       "      <td>Smiths Crinkle Cut  Chips Chicken 170g</td>\n",
       "      <td>5</td>\n",
       "      <td>14.5</td>\n",
       "    </tr>\n",
       "    <tr>\n",
       "      <th>17095</th>\n",
       "      <td>43332</td>\n",
       "      <td>164</td>\n",
       "      <td>164108</td>\n",
       "      <td>164461</td>\n",
       "      <td>8</td>\n",
       "      <td>Smiths Crinkle Cut  Chips Original 170g</td>\n",
       "      <td>5</td>\n",
       "      <td>14.5</td>\n",
       "    </tr>\n",
       "    <tr>\n",
       "      <th>25135</th>\n",
       "      <td>43328</td>\n",
       "      <td>56</td>\n",
       "      <td>56161</td>\n",
       "      <td>50876</td>\n",
       "      <td>52</td>\n",
       "      <td>Grain Waves Sour    Cream&amp;Chives 210G</td>\n",
       "      <td>4</td>\n",
       "      <td>14.4</td>\n",
       "    </tr>\n",
       "    <tr>\n",
       "      <th>32551</th>\n",
       "      <td>43599</td>\n",
       "      <td>156</td>\n",
       "      <td>156018</td>\n",
       "      <td>156738</td>\n",
       "      <td>1</td>\n",
       "      <td>Smiths Crinkle Cut  Chips Barbecue 170g</td>\n",
       "      <td>5</td>\n",
       "      <td>14.5</td>\n",
       "    </tr>\n",
       "    <tr>\n",
       "      <th>32670</th>\n",
       "      <td>43603</td>\n",
       "      <td>196</td>\n",
       "      <td>196102</td>\n",
       "      <td>196049</td>\n",
       "      <td>1</td>\n",
       "      <td>Smiths Crinkle Cut  Chips Barbecue 170g</td>\n",
       "      <td>5</td>\n",
       "      <td>14.5</td>\n",
       "    </tr>\n",
       "    <tr>\n",
       "      <th>32762</th>\n",
       "      <td>43331</td>\n",
       "      <td>227</td>\n",
       "      <td>227046</td>\n",
       "      <td>228561</td>\n",
       "      <td>100</td>\n",
       "      <td>Smiths Crinkle Cut  Chips Chs&amp;Onion170g</td>\n",
       "      <td>5</td>\n",
       "      <td>14.5</td>\n",
       "    </tr>\n",
       "    <tr>\n",
       "      <th>32773</th>\n",
       "      <td>43601</td>\n",
       "      <td>230</td>\n",
       "      <td>230068</td>\n",
       "      <td>232345</td>\n",
       "      <td>100</td>\n",
       "      <td>Smiths Crinkle Cut  Chips Chs&amp;Onion170g</td>\n",
       "      <td>5</td>\n",
       "      <td>14.5</td>\n",
       "    </tr>\n",
       "    <tr>\n",
       "      <th>55270</th>\n",
       "      <td>43604</td>\n",
       "      <td>43</td>\n",
       "      <td>43047</td>\n",
       "      <td>38903</td>\n",
       "      <td>100</td>\n",
       "      <td>Smiths Crinkle Cut  Chips Chs&amp;Onion170g</td>\n",
       "      <td>5</td>\n",
       "      <td>14.5</td>\n",
       "    </tr>\n",
       "    <tr>\n",
       "      <th>55489</th>\n",
       "      <td>43327</td>\n",
       "      <td>156</td>\n",
       "      <td>156195</td>\n",
       "      <td>157931</td>\n",
       "      <td>61</td>\n",
       "      <td>Smiths Crinkle Cut  Chips Chicken 170g</td>\n",
       "      <td>5</td>\n",
       "      <td>14.5</td>\n",
       "    </tr>\n",
       "    <tr>\n",
       "      <th>55561</th>\n",
       "      <td>43331</td>\n",
       "      <td>191</td>\n",
       "      <td>191126</td>\n",
       "      <td>192500</td>\n",
       "      <td>86</td>\n",
       "      <td>Cheetos Puffs 165g</td>\n",
       "      <td>5</td>\n",
       "      <td>14.0</td>\n",
       "    </tr>\n",
       "    <tr>\n",
       "      <th>55635</th>\n",
       "      <td>43332</td>\n",
       "      <td>229</td>\n",
       "      <td>229227</td>\n",
       "      <td>231732</td>\n",
       "      <td>61</td>\n",
       "      <td>Smiths Crinkle Cut  Chips Chicken 170g</td>\n",
       "      <td>5</td>\n",
       "      <td>14.5</td>\n",
       "    </tr>\n",
       "    <tr>\n",
       "      <th>69771</th>\n",
       "      <td>43605</td>\n",
       "      <td>227</td>\n",
       "      <td>227038</td>\n",
       "      <td>228513</td>\n",
       "      <td>86</td>\n",
       "      <td>Cheetos Puffs 165g</td>\n",
       "      <td>5</td>\n",
       "      <td>14.0</td>\n",
       "    </tr>\n",
       "    <tr>\n",
       "      <th>80742</th>\n",
       "      <td>43603</td>\n",
       "      <td>56</td>\n",
       "      <td>56164</td>\n",
       "      <td>50893</td>\n",
       "      <td>1</td>\n",
       "      <td>Smiths Crinkle Cut  Chips Barbecue 170g</td>\n",
       "      <td>5</td>\n",
       "      <td>14.5</td>\n",
       "    </tr>\n",
       "    <tr>\n",
       "      <th>80786</th>\n",
       "      <td>43331</td>\n",
       "      <td>71</td>\n",
       "      <td>71057</td>\n",
       "      <td>69274</td>\n",
       "      <td>24</td>\n",
       "      <td>Grain Waves         Sweet Chilli 210g</td>\n",
       "      <td>4</td>\n",
       "      <td>14.4</td>\n",
       "    </tr>\n",
       "    <tr>\n",
       "      <th>81161</th>\n",
       "      <td>43331</td>\n",
       "      <td>199</td>\n",
       "      <td>199194</td>\n",
       "      <td>198427</td>\n",
       "      <td>52</td>\n",
       "      <td>Grain Waves Sour    Cream&amp;Chives 210G</td>\n",
       "      <td>4</td>\n",
       "      <td>14.4</td>\n",
       "    </tr>\n",
       "    <tr>\n",
       "      <th>99464</th>\n",
       "      <td>43600</td>\n",
       "      <td>143</td>\n",
       "      <td>143327</td>\n",
       "      <td>143809</td>\n",
       "      <td>24</td>\n",
       "      <td>Grain Waves         Sweet Chilli 210g</td>\n",
       "      <td>4</td>\n",
       "      <td>14.4</td>\n",
       "    </tr>\n",
       "    <tr>\n",
       "      <th>99556</th>\n",
       "      <td>43330</td>\n",
       "      <td>169</td>\n",
       "      <td>169213</td>\n",
       "      <td>171288</td>\n",
       "      <td>8</td>\n",
       "      <td>Smiths Crinkle Cut  Chips Original 170g</td>\n",
       "      <td>5</td>\n",
       "      <td>14.5</td>\n",
       "    </tr>\n",
       "    <tr>\n",
       "      <th>135277</th>\n",
       "      <td>43327</td>\n",
       "      <td>67</td>\n",
       "      <td>67199</td>\n",
       "      <td>65002</td>\n",
       "      <td>52</td>\n",
       "      <td>Grain Waves Sour    Cream&amp;Chives 210G</td>\n",
       "      <td>4</td>\n",
       "      <td>14.4</td>\n",
       "    </tr>\n",
       "    <tr>\n",
       "      <th>135282</th>\n",
       "      <td>43604</td>\n",
       "      <td>70</td>\n",
       "      <td>70129</td>\n",
       "      <td>68236</td>\n",
       "      <td>52</td>\n",
       "      <td>Grain Waves Sour    Cream&amp;Chives 210G</td>\n",
       "      <td>4</td>\n",
       "      <td>14.4</td>\n",
       "    </tr>\n",
       "    <tr>\n",
       "      <th>135550</th>\n",
       "      <td>43602</td>\n",
       "      <td>195</td>\n",
       "      <td>195226</td>\n",
       "      <td>195083</td>\n",
       "      <td>86</td>\n",
       "      <td>Cheetos Puffs 165g</td>\n",
       "      <td>5</td>\n",
       "      <td>14.0</td>\n",
       "    </tr>\n",
       "    <tr>\n",
       "      <th>151010</th>\n",
       "      <td>43328</td>\n",
       "      <td>225</td>\n",
       "      <td>225083</td>\n",
       "      <td>225151</td>\n",
       "      <td>61</td>\n",
       "      <td>Smiths Crinkle Cut  Chips Chicken 170g</td>\n",
       "      <td>5</td>\n",
       "      <td>14.5</td>\n",
       "    </tr>\n",
       "    <tr>\n",
       "      <th>151101</th>\n",
       "      <td>43601</td>\n",
       "      <td>248</td>\n",
       "      <td>248318</td>\n",
       "      <td>250607</td>\n",
       "      <td>86</td>\n",
       "      <td>Cheetos Puffs 165g</td>\n",
       "      <td>5</td>\n",
       "      <td>14.0</td>\n",
       "    </tr>\n",
       "    <tr>\n",
       "      <th>171864</th>\n",
       "      <td>43331</td>\n",
       "      <td>51</td>\n",
       "      <td>51218</td>\n",
       "      <td>46925</td>\n",
       "      <td>100</td>\n",
       "      <td>Smiths Crinkle Cut  Chips Chs&amp;Onion170g</td>\n",
       "      <td>5</td>\n",
       "      <td>14.5</td>\n",
       "    </tr>\n",
       "    <tr>\n",
       "      <th>185462</th>\n",
       "      <td>43327</td>\n",
       "      <td>236</td>\n",
       "      <td>236039</td>\n",
       "      <td>238779</td>\n",
       "      <td>8</td>\n",
       "      <td>Smiths Crinkle Cut  Chips Original 170g</td>\n",
       "      <td>5</td>\n",
       "      <td>14.5</td>\n",
       "    </tr>\n",
       "    <tr>\n",
       "      <th>204367</th>\n",
       "      <td>43327</td>\n",
       "      <td>223</td>\n",
       "      <td>223025</td>\n",
       "      <td>223075</td>\n",
       "      <td>8</td>\n",
       "      <td>Smiths Crinkle Cut  Chips Original 170g</td>\n",
       "      <td>5</td>\n",
       "      <td>14.5</td>\n",
       "    </tr>\n",
       "    <tr>\n",
       "      <th>216983</th>\n",
       "      <td>43327</td>\n",
       "      <td>57</td>\n",
       "      <td>57243</td>\n",
       "      <td>52697</td>\n",
       "      <td>100</td>\n",
       "      <td>Smiths Crinkle Cut  Chips Chs&amp;Onion170g</td>\n",
       "      <td>5</td>\n",
       "      <td>14.5</td>\n",
       "    </tr>\n",
       "    <tr>\n",
       "      <th>217321</th>\n",
       "      <td>43599</td>\n",
       "      <td>259</td>\n",
       "      <td>259121</td>\n",
       "      <td>258232</td>\n",
       "      <td>73</td>\n",
       "      <td>Smiths Crinkle Cut  Salt &amp; Vinegar 170g</td>\n",
       "      <td>5</td>\n",
       "      <td>14.5</td>\n",
       "    </tr>\n",
       "    <tr>\n",
       "      <th>228533</th>\n",
       "      <td>43327</td>\n",
       "      <td>50</td>\n",
       "      <td>50466</td>\n",
       "      <td>46635</td>\n",
       "      <td>86</td>\n",
       "      <td>Cheetos Puffs 165g</td>\n",
       "      <td>5</td>\n",
       "      <td>14.0</td>\n",
       "    </tr>\n",
       "    <tr>\n",
       "      <th>228711</th>\n",
       "      <td>43329</td>\n",
       "      <td>205</td>\n",
       "      <td>205149</td>\n",
       "      <td>204215</td>\n",
       "      <td>1</td>\n",
       "      <td>Smiths Crinkle Cut  Chips Barbecue 170g</td>\n",
       "      <td>5</td>\n",
       "      <td>14.5</td>\n",
       "    </tr>\n",
       "    <tr>\n",
       "      <th>238479</th>\n",
       "      <td>43326</td>\n",
       "      <td>268</td>\n",
       "      <td>268260</td>\n",
       "      <td>264680</td>\n",
       "      <td>24</td>\n",
       "      <td>Grain Waves         Sweet Chilli 210g</td>\n",
       "      <td>4</td>\n",
       "      <td>14.4</td>\n",
       "    </tr>\n",
       "  </tbody>\n",
       "</table>\n",
       "</div>"
      ],
      "text/plain": [
       "         DATE  STORE_NBR  LYLTY_CARD_NBR  TXN_ID  PROD_NBR  \\\n",
       "137     43332        186          186401  188768         1   \n",
       "5055    43603         24           24060   20619        61   \n",
       "17095   43332        164          164108  164461         8   \n",
       "25135   43328         56           56161   50876        52   \n",
       "32551   43599        156          156018  156738         1   \n",
       "32670   43603        196          196102  196049         1   \n",
       "32762   43331        227          227046  228561       100   \n",
       "32773   43601        230          230068  232345       100   \n",
       "55270   43604         43           43047   38903       100   \n",
       "55489   43327        156          156195  157931        61   \n",
       "55561   43331        191          191126  192500        86   \n",
       "55635   43332        229          229227  231732        61   \n",
       "69771   43605        227          227038  228513        86   \n",
       "80742   43603         56           56164   50893         1   \n",
       "80786   43331         71           71057   69274        24   \n",
       "81161   43331        199          199194  198427        52   \n",
       "99464   43600        143          143327  143809        24   \n",
       "99556   43330        169          169213  171288         8   \n",
       "135277  43327         67           67199   65002        52   \n",
       "135282  43604         70           70129   68236        52   \n",
       "135550  43602        195          195226  195083        86   \n",
       "151010  43328        225          225083  225151        61   \n",
       "151101  43601        248          248318  250607        86   \n",
       "171864  43331         51           51218   46925       100   \n",
       "185462  43327        236          236039  238779         8   \n",
       "204367  43327        223          223025  223075         8   \n",
       "216983  43327         57           57243   52697       100   \n",
       "217321  43599        259          259121  258232        73   \n",
       "228533  43327         50           50466   46635        86   \n",
       "228711  43329        205          205149  204215         1   \n",
       "238479  43326        268          268260  264680        24   \n",
       "\n",
       "                                      PROD_NAME  PROD_QTY  TOT_SALES  \n",
       "137     Smiths Crinkle Cut  Chips Barbecue 170g         5       14.5  \n",
       "5055     Smiths Crinkle Cut  Chips Chicken 170g         5       14.5  \n",
       "17095   Smiths Crinkle Cut  Chips Original 170g         5       14.5  \n",
       "25135     Grain Waves Sour    Cream&Chives 210G         4       14.4  \n",
       "32551   Smiths Crinkle Cut  Chips Barbecue 170g         5       14.5  \n",
       "32670   Smiths Crinkle Cut  Chips Barbecue 170g         5       14.5  \n",
       "32762   Smiths Crinkle Cut  Chips Chs&Onion170g         5       14.5  \n",
       "32773   Smiths Crinkle Cut  Chips Chs&Onion170g         5       14.5  \n",
       "55270   Smiths Crinkle Cut  Chips Chs&Onion170g         5       14.5  \n",
       "55489    Smiths Crinkle Cut  Chips Chicken 170g         5       14.5  \n",
       "55561                        Cheetos Puffs 165g         5       14.0  \n",
       "55635    Smiths Crinkle Cut  Chips Chicken 170g         5       14.5  \n",
       "69771                        Cheetos Puffs 165g         5       14.0  \n",
       "80742   Smiths Crinkle Cut  Chips Barbecue 170g         5       14.5  \n",
       "80786     Grain Waves         Sweet Chilli 210g         4       14.4  \n",
       "81161     Grain Waves Sour    Cream&Chives 210G         4       14.4  \n",
       "99464     Grain Waves         Sweet Chilli 210g         4       14.4  \n",
       "99556   Smiths Crinkle Cut  Chips Original 170g         5       14.5  \n",
       "135277    Grain Waves Sour    Cream&Chives 210G         4       14.4  \n",
       "135282    Grain Waves Sour    Cream&Chives 210G         4       14.4  \n",
       "135550                       Cheetos Puffs 165g         5       14.0  \n",
       "151010   Smiths Crinkle Cut  Chips Chicken 170g         5       14.5  \n",
       "151101                       Cheetos Puffs 165g         5       14.0  \n",
       "171864  Smiths Crinkle Cut  Chips Chs&Onion170g         5       14.5  \n",
       "185462  Smiths Crinkle Cut  Chips Original 170g         5       14.5  \n",
       "204367  Smiths Crinkle Cut  Chips Original 170g         5       14.5  \n",
       "216983  Smiths Crinkle Cut  Chips Chs&Onion170g         5       14.5  \n",
       "217321  Smiths Crinkle Cut  Salt & Vinegar 170g         5       14.5  \n",
       "228533                       Cheetos Puffs 165g         5       14.0  \n",
       "228711  Smiths Crinkle Cut  Chips Barbecue 170g         5       14.5  \n",
       "238479    Grain Waves         Sweet Chilli 210g         4       14.4  "
      ]
     },
     "execution_count": 23,
     "metadata": {},
     "output_type": "execute_result"
    }
   ],
   "source": [
    "td_clean[td_clean.TOT_SALES>13.8]"
   ]
  },
  {
   "cell_type": "code",
   "execution_count": 24,
   "id": "c48477d1",
   "metadata": {},
   "outputs": [],
   "source": [
    "td_clean=td_clean[td_clean.TOT_SALES<13.8]"
   ]
  },
  {
   "cell_type": "code",
   "execution_count": 25,
   "id": "e2c9554c",
   "metadata": {},
   "outputs": [
    {
     "data": {
      "text/plain": [
       "{'whiskers': [<matplotlib.lines.Line2D at 0x295774ff050>,\n",
       "  <matplotlib.lines.Line2D at 0x295774fd850>],\n",
       " 'caps': [<matplotlib.lines.Line2D at 0x295774fdfd0>,\n",
       "  <matplotlib.lines.Line2D at 0x295774fc350>],\n",
       " 'boxes': [<matplotlib.lines.Line2D at 0x29576db3050>],\n",
       " 'medians': [<matplotlib.lines.Line2D at 0x295774ffd50>],\n",
       " 'fliers': [<matplotlib.lines.Line2D at 0x295774fe250>],\n",
       " 'means': []}"
      ]
     },
     "execution_count": 25,
     "metadata": {},
     "output_type": "execute_result"
    },
    {
     "data": {
      "image/png": "[encoded data removed]",
      "text/plain": [
       "<Figure size 640x480 with 1 Axes>"
      ]
     },
     "metadata": {},
     "output_type": "display_data"
    }
   ],
   "source": [
    "plt.boxplot(td_clean.TOT_SALES)"
   ]
  },
  {
   "cell_type": "code",
   "execution_count": 26,
   "id": "7d0830d3",
   "metadata": {},
   "outputs": [
    {
     "data": {
      "text/plain": [
       "<Axes: xlabel='TOT_SALES', ylabel='Density'>"
      ]
     },
     "execution_count": 26,
     "metadata": {},
     "output_type": "execute_result"
    },
    {
     "data": {
      "image/png": "[encoded data removed]",
      "text/plain": [
       "<Figure size 640x480 with 1 Axes>"
      ]
     },
     "metadata": {},
     "output_type": "display_data"
    }
   ],
   "source": [
    "sns.distplot(td_clean.TOT_SALES)"
   ]
  },
  {
   "cell_type": "markdown",
   "id": "7ad3cd2e",
   "metadata": {},
   "source": [
    "`THE ABOVE DISTPLOT SHOWS THAT AFTER THE REMOVAL OF OUTLIERS OUR DATA IS NORMALLY DISTRIBUTED`"
   ]
  }
 ],
 "metadata": {
  "kernelspec": {
   "display_name": "Python 3 (ipykernel)",
   "language": "python",
   "name": "python3"
  },
  "language_info": {
   "codemirror_mode": {
    "name": "ipython",
    "version": 3
   },
   "file_extension": ".py",
   "mimetype": "text/x-python",
   "name": "python",
   "nbconvert_exporter": "python",
   "pygments_lexer": "ipython3",
   "version": "3.11.3"
  }
 },
 "nbformat": 4,
 "nbformat_minor": 5
}
